{
 "cells": [
  {
   "cell_type": "code",
   "execution_count": 2,
   "id": "59495647",
   "metadata": {},
   "outputs": [],
   "source": [
    "import pandas as pd\n"
   ]
  },
  {
   "cell_type": "code",
   "execution_count": 3,
   "id": "4f361386",
   "metadata": {
    "scrolled": true
   },
   "outputs": [],
   "source": [
    "# set up the path to your csv file\n",
    "path = 'DOB_Complaints_Received.csv'\n",
    "# convert your csv file to a pandas DataFrame\n",
    "complaints = pd.read_csv(path, nrows=300)"
   ]
  },
  {
   "cell_type": "code",
   "execution_count": 4,
   "id": "7bbd6a45",
   "metadata": {
    "scrolled": true
   },
   "outputs": [
    {
     "data": {
      "text/html": [
       "<div>\n",
       "<style scoped>\n",
       "    .dataframe tbody tr th:only-of-type {\n",
       "        vertical-align: middle;\n",
       "    }\n",
       "\n",
       "    .dataframe tbody tr th {\n",
       "        vertical-align: top;\n",
       "    }\n",
       "\n",
       "    .dataframe thead th {\n",
       "        text-align: right;\n",
       "    }\n",
       "</style>\n",
       "<table border=\"1\" class=\"dataframe\">\n",
       "  <thead>\n",
       "    <tr style=\"text-align: right;\">\n",
       "      <th></th>\n",
       "      <th>Complaint Number</th>\n",
       "      <th>Status</th>\n",
       "      <th>Date Entered</th>\n",
       "      <th>House Number</th>\n",
       "      <th>ZIP Code</th>\n",
       "      <th>House Street</th>\n",
       "      <th>BIN</th>\n",
       "      <th>Community Board</th>\n",
       "      <th>Special District</th>\n",
       "      <th>Complaint Category</th>\n",
       "      <th>Unit</th>\n",
       "      <th>Disposition Date</th>\n",
       "      <th>Disposition Code</th>\n",
       "      <th>Inspection Date</th>\n",
       "      <th>DOBRunDate</th>\n",
       "    </tr>\n",
       "  </thead>\n",
       "  <tbody>\n",
       "    <tr>\n",
       "      <th>0</th>\n",
       "      <td>3672431</td>\n",
       "      <td>CLOSED</td>\n",
       "      <td>10/22/2018</td>\n",
       "      <td>104</td>\n",
       "      <td>11249</td>\n",
       "      <td>NORTH 8 STREET</td>\n",
       "      <td>3421354</td>\n",
       "      <td>301</td>\n",
       "      <td></td>\n",
       "      <td>35</td>\n",
       "      <td>BKLYN</td>\n",
       "      <td>11/09/2018</td>\n",
       "      <td>I2</td>\n",
       "      <td>11/08/2018</td>\n",
       "      <td>11/10/2018 12:00:00 AM</td>\n",
       "    </tr>\n",
       "    <tr>\n",
       "      <th>1</th>\n",
       "      <td>5136339</td>\n",
       "      <td>CLOSED</td>\n",
       "      <td>08/07/2018</td>\n",
       "      <td>561</td>\n",
       "      <td>10312</td>\n",
       "      <td>SHELDON AVENUE</td>\n",
       "      <td>5817541</td>\n",
       "      <td>503</td>\n",
       "      <td></td>\n",
       "      <td>4S</td>\n",
       "      <td>SYE</td>\n",
       "      <td>11/09/2018</td>\n",
       "      <td>C2</td>\n",
       "      <td>11/09/2018</td>\n",
       "      <td>11/10/2018 12:00:00 AM</td>\n",
       "    </tr>\n",
       "    <tr>\n",
       "      <th>2</th>\n",
       "      <td>1494617</td>\n",
       "      <td>ACTIVE</td>\n",
       "      <td>11/09/2018</td>\n",
       "      <td>23</td>\n",
       "      <td>10028</td>\n",
       "      <td>EAST 81 STREET</td>\n",
       "      <td>1046666</td>\n",
       "      <td>108</td>\n",
       "      <td></td>\n",
       "      <td>6S</td>\n",
       "      <td>ELEVR</td>\n",
       "      <td>NaN</td>\n",
       "      <td></td>\n",
       "      <td>NaN</td>\n",
       "      <td>11/10/2018 12:00:00 AM</td>\n",
       "    </tr>\n",
       "    <tr>\n",
       "      <th>3</th>\n",
       "      <td>3674825</td>\n",
       "      <td>ACTIVE</td>\n",
       "      <td>11/09/2018</td>\n",
       "      <td>60</td>\n",
       "      <td>11221</td>\n",
       "      <td>MENAHAN STREET</td>\n",
       "      <td>3821252</td>\n",
       "      <td>304</td>\n",
       "      <td></td>\n",
       "      <td>55</td>\n",
       "      <td>ERT</td>\n",
       "      <td>11/09/2018</td>\n",
       "      <td>D5</td>\n",
       "      <td>11/09/2018</td>\n",
       "      <td>11/10/2018 12:00:00 AM</td>\n",
       "    </tr>\n",
       "    <tr>\n",
       "      <th>4</th>\n",
       "      <td>3668650</td>\n",
       "      <td>CLOSED</td>\n",
       "      <td>09/24/2018</td>\n",
       "      <td>2181</td>\n",
       "      <td>11233</td>\n",
       "      <td>PACIFIC STREET</td>\n",
       "      <td>3038572</td>\n",
       "      <td>316</td>\n",
       "      <td></td>\n",
       "      <td>45</td>\n",
       "      <td>BKLYN</td>\n",
       "      <td>11/09/2018</td>\n",
       "      <td>A8</td>\n",
       "      <td>11/08/2018</td>\n",
       "      <td>11/10/2018 12:00:00 AM</td>\n",
       "    </tr>\n",
       "    <tr>\n",
       "      <th>...</th>\n",
       "      <td>...</td>\n",
       "      <td>...</td>\n",
       "      <td>...</td>\n",
       "      <td>...</td>\n",
       "      <td>...</td>\n",
       "      <td>...</td>\n",
       "      <td>...</td>\n",
       "      <td>...</td>\n",
       "      <td>...</td>\n",
       "      <td>...</td>\n",
       "      <td>...</td>\n",
       "      <td>...</td>\n",
       "      <td>...</td>\n",
       "      <td>...</td>\n",
       "      <td>...</td>\n",
       "    </tr>\n",
       "    <tr>\n",
       "      <th>295</th>\n",
       "      <td>2271129</td>\n",
       "      <td>ACTIVE</td>\n",
       "      <td>11/02/2018</td>\n",
       "      <td>221</td>\n",
       "      <td>10451</td>\n",
       "      <td>EAST 138 STREET</td>\n",
       "      <td>2128972</td>\n",
       "      <td>201</td>\n",
       "      <td></td>\n",
       "      <td>4B</td>\n",
       "      <td>SEP</td>\n",
       "      <td>11/09/2018</td>\n",
       "      <td>C1</td>\n",
       "      <td>11/05/2018</td>\n",
       "      <td>11/10/2018 12:00:00 AM</td>\n",
       "    </tr>\n",
       "    <tr>\n",
       "      <th>296</th>\n",
       "      <td>5137652</td>\n",
       "      <td>ACTIVE</td>\n",
       "      <td>10/08/2018</td>\n",
       "      <td>45</td>\n",
       "      <td>10303</td>\n",
       "      <td>UNION AVENUE</td>\n",
       "      <td>5165931</td>\n",
       "      <td>501</td>\n",
       "      <td></td>\n",
       "      <td>45</td>\n",
       "      <td>ST.IS</td>\n",
       "      <td>11/09/2018</td>\n",
       "      <td>C3</td>\n",
       "      <td>11/08/2018</td>\n",
       "      <td>11/10/2018 12:00:00 AM</td>\n",
       "    </tr>\n",
       "    <tr>\n",
       "      <th>297</th>\n",
       "      <td>3674856</td>\n",
       "      <td>ACTIVE</td>\n",
       "      <td>11/09/2018</td>\n",
       "      <td>1153</td>\n",
       "      <td>11228</td>\n",
       "      <td>BAY RIDGE PARKWAY</td>\n",
       "      <td>3159334</td>\n",
       "      <td>310</td>\n",
       "      <td></td>\n",
       "      <td>35</td>\n",
       "      <td>BKLYN</td>\n",
       "      <td>NaN</td>\n",
       "      <td></td>\n",
       "      <td>NaN</td>\n",
       "      <td>11/10/2018 12:00:00 AM</td>\n",
       "    </tr>\n",
       "    <tr>\n",
       "      <th>298</th>\n",
       "      <td>3671149</td>\n",
       "      <td>ACTIVE</td>\n",
       "      <td>10/12/2018</td>\n",
       "      <td>317</td>\n",
       "      <td>11214</td>\n",
       "      <td>BAY 14 STREET</td>\n",
       "      <td>3169359</td>\n",
       "      <td>311</td>\n",
       "      <td></td>\n",
       "      <td>1L</td>\n",
       "      <td>PLUMB</td>\n",
       "      <td>11/09/2018</td>\n",
       "      <td>C1</td>\n",
       "      <td>11/08/2018</td>\n",
       "      <td>11/10/2018 12:00:00 AM</td>\n",
       "    </tr>\n",
       "    <tr>\n",
       "      <th>299</th>\n",
       "      <td>4754175</td>\n",
       "      <td>ACTIVE</td>\n",
       "      <td>11/09/2018</td>\n",
       "      <td>102-07</td>\n",
       "      <td>11416</td>\n",
       "      <td>101 AVENUE</td>\n",
       "      <td>4197696</td>\n",
       "      <td>409</td>\n",
       "      <td></td>\n",
       "      <td>85</td>\n",
       "      <td>QNS.</td>\n",
       "      <td>NaN</td>\n",
       "      <td></td>\n",
       "      <td>NaN</td>\n",
       "      <td>11/10/2018 12:00:00 AM</td>\n",
       "    </tr>\n",
       "  </tbody>\n",
       "</table>\n",
       "<p>300 rows × 15 columns</p>\n",
       "</div>"
      ],
      "text/plain": [
       "     Complaint Number  Status Date Entered  House Number  ZIP Code  \\\n",
       "0             3672431  CLOSED   10/22/2018  104              11249   \n",
       "1             5136339  CLOSED   08/07/2018  561              10312   \n",
       "2             1494617  ACTIVE   11/09/2018  23               10028   \n",
       "3             3674825  ACTIVE   11/09/2018  60               11221   \n",
       "4             3668650  CLOSED   09/24/2018  2181             11233   \n",
       "..                ...     ...          ...           ...       ...   \n",
       "295           2271129  ACTIVE   11/02/2018  221              10451   \n",
       "296           5137652  ACTIVE   10/08/2018  45               10303   \n",
       "297           3674856  ACTIVE   11/09/2018  1153             11228   \n",
       "298           3671149  ACTIVE   10/12/2018  317              11214   \n",
       "299           4754175  ACTIVE   11/09/2018  102-07           11416   \n",
       "\n",
       "                         House Street      BIN  Community Board  \\\n",
       "0    NORTH 8 STREET                    3421354              301   \n",
       "1    SHELDON AVENUE                    5817541              503   \n",
       "2    EAST 81 STREET                    1046666              108   \n",
       "3    MENAHAN STREET                    3821252              304   \n",
       "4    PACIFIC STREET                    3038572              316   \n",
       "..                                ...      ...              ...   \n",
       "295  EAST 138 STREET                   2128972              201   \n",
       "296  UNION AVENUE                      5165931              501   \n",
       "297  BAY RIDGE PARKWAY                 3159334              310   \n",
       "298  BAY 14 STREET                     3169359              311   \n",
       "299  101 AVENUE                        4197696              409   \n",
       "\n",
       "    Special District Complaint Category   Unit Disposition Date  \\\n",
       "0                                    35  BKLYN       11/09/2018   \n",
       "1                                    4S  SYE         11/09/2018   \n",
       "2                                    6S  ELEVR              NaN   \n",
       "3                                    55  ERT         11/09/2018   \n",
       "4                                    45  BKLYN       11/09/2018   \n",
       "..               ...                ...    ...              ...   \n",
       "295                                  4B  SEP         11/09/2018   \n",
       "296                                  45  ST.IS       11/09/2018   \n",
       "297                                  35  BKLYN              NaN   \n",
       "298                                  1L  PLUMB       11/09/2018   \n",
       "299                                  85   QNS.              NaN   \n",
       "\n",
       "    Disposition Code Inspection Date              DOBRunDate  \n",
       "0                 I2      11/08/2018  11/10/2018 12:00:00 AM  \n",
       "1                 C2      11/09/2018  11/10/2018 12:00:00 AM  \n",
       "2                                NaN  11/10/2018 12:00:00 AM  \n",
       "3                 D5      11/09/2018  11/10/2018 12:00:00 AM  \n",
       "4                 A8      11/08/2018  11/10/2018 12:00:00 AM  \n",
       "..               ...             ...                     ...  \n",
       "295               C1      11/05/2018  11/10/2018 12:00:00 AM  \n",
       "296               C3      11/08/2018  11/10/2018 12:00:00 AM  \n",
       "297                              NaN  11/10/2018 12:00:00 AM  \n",
       "298               C1      11/08/2018  11/10/2018 12:00:00 AM  \n",
       "299                              NaN  11/10/2018 12:00:00 AM  \n",
       "\n",
       "[300 rows x 15 columns]"
      ]
     },
     "execution_count": 4,
     "metadata": {},
     "output_type": "execute_result"
    }
   ],
   "source": [
    "complaints\n"
   ]
  },
  {
   "cell_type": "code",
   "execution_count": 5,
   "id": "29a3e5f2",
   "metadata": {},
   "outputs": [
    {
     "data": {
      "text/plain": [
       "array(['BKLYN', 'SYE  ', 'ELEVR', 'ERT  ', 'ELCTR', 'BEST ', 'QNS.',\n",
       "       'SPOPS', 'SEP  ', 'BRONX', 'PLUMB', 'EXCAV', 'SCFLD', 'MAN.',\n",
       "       'ST.IS', 'INTDM', 'EXEC ', 'BOILR', 'OBM  '], dtype=object)"
      ]
     },
     "execution_count": 5,
     "metadata": {},
     "output_type": "execute_result"
    }
   ],
   "source": [
    "complaints.Unit.unique() #printing out lables\n"
   ]
  },
  {
   "cell_type": "code",
   "execution_count": 6,
   "id": "093da29a",
   "metadata": {},
   "outputs": [],
   "source": [
    "units= complaints['Unit'] #create a variable"
   ]
  },
  {
   "cell_type": "code",
   "execution_count": 7,
   "id": "dde19d31",
   "metadata": {},
   "outputs": [
    {
     "name": "stdout",
     "output_type": "stream",
     "text": [
      "0      35\n",
      "1      4S\n",
      "2      6S\n",
      "3      55\n",
      "4      45\n",
      "       ..\n",
      "295    4B\n",
      "296    45\n",
      "297    35\n",
      "298    1L\n",
      "299    85\n",
      "Name: Complaint Category, Length: 300, dtype: object\n"
     ]
    }
   ],
   "source": [
    "category1=complaints['Complaint Category'] #printing out categories\n",
    "print(category1)"
   ]
  },
  {
   "cell_type": "code",
   "execution_count": 8,
   "id": "41c64abf",
   "metadata": {},
   "outputs": [],
   "source": [
    "category_list=[]\n",
    "for x in category1:\n",
    "    category_list.append(x)"
   ]
  },
  {
   "cell_type": "code",
   "execution_count": 9,
   "id": "3fbcdc1a",
   "metadata": {},
   "outputs": [
    {
     "name": "stdout",
     "output_type": "stream",
     "text": [
      "['35', '4S', '6S', '55', '45', '59', '4L', '45', '73', '4B', '73', '4A', '10', '05', '83', '4A', '05', '59', '49', '6S', '73', '1X', '45', '1L', '73', '1L', '05', '35', '14', '05', '05', '73', '45', '6S', '35', '1L', '45', '4M', '30', '73', '83', '45', '73', '4M', '4M', '03', '35', '6M', '45', '05', '88', '37', '45', '45', '35', '35', '35', '85', '35', '59', '6S', '94', '23', '45', '06', '45', '2B', '73', '04', '74', '23', '1A', '45', '4A', '45', '35', '4M', '86', '71', '45', '4A', '09', '23', '30', '85', '45', '45', '45', '4A', '09', '94', '16', '30', '05', '06', '05', '09', '05', '15', '05', '30', '66', '45', '03', '10', '05', '06', '45', '05', '59', '1L', '05', '35', '05', '45', '30', '05', '31', '1X', '83', '59', '55', '45', '45', '1Y', '86', '05', '4A', '45', '4L', '4B', '29', '45', '65', '23', '91', '94', '6S', '6S', '86', '86', '45', '6S', '4S', '05', '1X', '66', '4A', '06', '45', '94', '35', '58', '05', '4B', '05', '4B', '05', '31', '23', '94', '1X', '1L', '31', '73', '45', '66', '53', '14', '37', '4S', '35', '71', '6M', '83', '4A', '30', '04', '91', '04', '85', '66', '86', '31', '31', '18', '45', '1L', '31', '30', '4M', '1X', '45', '31', '45', '6S', '94', '4C', '55', '4C', '35', '2E', '71', '6M', '6M', '45', '29', '23', '6S', '85', '05', '73', '35', '35', '4M', '45', '91', '05', '23', '45', '83', '45', '45', '6M', '45', '4S', '30', '09', '4S', '30', '35', '05', '94', '05', '6M', '53', '4S', '73', '35', '6S', '4S', '05', '45', '6S', '1X', '05', '94', '1Y', '83', '4S', '4A', '05', '5H', '45', '45', '45', '35', '45', '45', '94', '58', '4M', '35', '45', '05', '1L', '1X', '35', '4F', '09', '31', '45', '05', '91', '1X', '65', '45', '23', '45', '29', '2G', '1Y', '91', '6M', '35', '04', '45', '86', '05', '4B', '37', '1L', '1L', '1X', '05', '4B', '45', '35', '1L', '85']\n"
     ]
    }
   ],
   "source": [
    "print(category_list)"
   ]
  },
  {
   "cell_type": "code",
   "execution_count": 10,
   "id": "7a3a86b2",
   "metadata": {},
   "outputs": [
    {
     "name": "stdout",
     "output_type": "stream",
     "text": [
      "0      BKLYN\n",
      "1      SYE  \n",
      "2      ELEVR\n",
      "3      ERT  \n",
      "4      BKLYN\n",
      "       ...  \n",
      "295    SEP  \n",
      "296    ST.IS\n",
      "297    BKLYN\n",
      "298    PLUMB\n",
      "299     QNS.\n",
      "Name: Unit, Length: 300, dtype: object\n"
     ]
    }
   ],
   "source": [
    "print(units)"
   ]
  },
  {
   "cell_type": "code",
   "execution_count": 11,
   "id": "02dbb93b",
   "metadata": {},
   "outputs": [],
   "source": [
    "#turning the units into a list because i dont know what type it is??\n",
    "unit_list = []\n",
    "for x in complaints.Unit.unique():\n",
    "    unit_list.append(x)"
   ]
  },
  {
   "cell_type": "code",
   "execution_count": 12,
   "id": "86b3fcec",
   "metadata": {},
   "outputs": [
    {
     "data": {
      "text/plain": [
       "['BKLYN',\n",
       " 'SYE  ',\n",
       " 'ELEVR',\n",
       " 'ERT  ',\n",
       " 'ELCTR',\n",
       " 'BEST ',\n",
       " 'QNS.',\n",
       " 'SPOPS',\n",
       " 'SEP  ',\n",
       " 'BRONX',\n",
       " 'PLUMB',\n",
       " 'EXCAV',\n",
       " 'SCFLD',\n",
       " 'MAN.',\n",
       " 'ST.IS',\n",
       " 'INTDM',\n",
       " 'EXEC ',\n",
       " 'BOILR',\n",
       " 'OBM  ']"
      ]
     },
     "execution_count": 12,
     "metadata": {},
     "output_type": "execute_result"
    }
   ],
   "source": [
    "#print out my labels as a list\n",
    "unit_list"
   ]
  },
  {
   "cell_type": "code",
   "execution_count": 13,
   "id": "47aded1f",
   "metadata": {},
   "outputs": [
    {
     "data": {
      "text/plain": [
       "list"
      ]
     },
     "execution_count": 13,
     "metadata": {},
     "output_type": "execute_result"
    }
   ],
   "source": [
    "type(unit_list)"
   ]
  },
  {
   "cell_type": "code",
   "execution_count": 14,
   "id": "5f3f267f",
   "metadata": {},
   "outputs": [
    {
     "data": {
      "text/plain": [
       "pandas.core.series.Series"
      ]
     },
     "execution_count": 14,
     "metadata": {},
     "output_type": "execute_result"
    }
   ],
   "source": [
    "category= complaints[\"Complaint Category\"]\n",
    "status = complaints[\"Status\"]\n",
    "date = complaints [\"Date Entered\"]\n",
    "unit = complaints[\"Unit\"]\n",
    "type(status)"
   ]
  },
  {
   "cell_type": "code",
   "execution_count": 26,
   "id": "2d9d1450",
   "metadata": {},
   "outputs": [
    {
     "name": "stdout",
     "output_type": "stream",
     "text": [
      "[('35', 'CLOSED'), ('4S', 'CLOSED'), ('6S', 'ACTIVE'), ('55', 'ACTIVE'), ('45', 'CLOSED'), ('59', 'CLOSED'), ('4L', 'CLOSED'), ('45', 'ACTIVE'), ('73', 'CLOSED'), ('4B', 'CLOSED'), ('73', 'CLOSED'), ('4A', 'ACTIVE'), ('10', 'CLOSED'), ('05', 'CLOSED'), ('83', 'ACTIVE'), ('4A', 'CLOSED'), ('05', 'CLOSED'), ('59', 'CLOSED'), ('49', 'CLOSED'), ('6S', 'CLOSED'), ('73', 'ACTIVE'), ('1X', 'ACTIVE'), ('45', 'ACTIVE'), ('1L', 'CLOSED'), ('73', 'CLOSED'), ('1L', 'ACTIVE'), ('05', 'CLOSED'), ('35', 'CLOSED'), ('14', 'ACTIVE'), ('05', 'CLOSED'), ('05', 'CLOSED'), ('73', 'CLOSED'), ('45', 'ACTIVE'), ('6S', 'ACTIVE'), ('35', 'CLOSED'), ('1L', 'ACTIVE'), ('45', 'ACTIVE'), ('4M', 'CLOSED'), ('30', 'CLOSED'), ('73', 'CLOSED'), ('83', 'CLOSED'), ('45', 'ACTIVE'), ('73', 'CLOSED'), ('4M', 'CLOSED'), ('4M', 'CLOSED'), ('03', 'ACTIVE'), ('35', 'CLOSED'), ('6M', 'CLOSED'), ('45', 'CLOSED'), ('05', 'ACTIVE'), ('88', 'ACTIVE'), ('37', 'CLOSED'), ('45', 'CLOSED'), ('45', 'CLOSED'), ('35', 'CLOSED'), ('35', 'CLOSED'), ('35', 'ACTIVE'), ('85', 'CLOSED'), ('35', 'CLOSED'), ('59', 'CLOSED'), ('6S', 'CLOSED'), ('94', 'CLOSED'), ('23', 'CLOSED'), ('45', 'ACTIVE'), ('06', 'CLOSED'), ('45', 'ACTIVE'), ('2B', 'ACTIVE'), ('73', 'CLOSED'), ('04', 'CLOSED'), ('74', 'ACTIVE'), ('23', 'ACTIVE'), ('1A', 'CLOSED'), ('45', 'CLOSED'), ('4A', 'ACTIVE'), ('45', 'ACTIVE'), ('35', 'CLOSED'), ('4M', 'CLOSED'), ('86', 'CLOSED'), ('71', 'ACTIVE'), ('45', 'ACTIVE'), ('4A', 'ACTIVE'), ('09', 'CLOSED'), ('23', 'ACTIVE'), ('30', 'ACTIVE'), ('85', 'CLOSED'), ('45', 'CLOSED'), ('45', 'ACTIVE'), ('45', 'ACTIVE'), ('4A', 'ACTIVE'), ('09', 'ACTIVE'), ('94', 'CLOSED'), ('16', 'CLOSED'), ('30', 'ACTIVE'), ('05', 'CLOSED'), ('06', 'ACTIVE'), ('05', 'ACTIVE'), ('09', 'ACTIVE'), ('05', 'CLOSED'), ('15', 'CLOSED'), ('05', 'CLOSED'), ('30', 'CLOSED'), ('66', 'ACTIVE'), ('45', 'CLOSED'), ('03', 'CLOSED'), ('10', 'CLOSED'), ('05', 'CLOSED'), ('06', 'ACTIVE'), ('45', 'CLOSED'), ('05', 'ACTIVE'), ('59', 'CLOSED'), ('1L', 'ACTIVE'), ('05', 'ACTIVE'), ('35', 'CLOSED'), ('05', 'ACTIVE'), ('45', 'ACTIVE'), ('30', 'CLOSED'), ('05', 'CLOSED'), ('31', 'ACTIVE'), ('1X', 'ACTIVE'), ('83', 'CLOSED'), ('59', 'ACTIVE'), ('55', 'CLOSED'), ('45', 'ACTIVE'), ('45', 'ACTIVE'), ('1Y', 'CLOSED'), ('86', 'ACTIVE'), ('05', 'CLOSED'), ('4A', 'ACTIVE'), ('45', 'ACTIVE'), ('4L', 'CLOSED'), ('4B', 'CLOSED'), ('29', 'ACTIVE'), ('45', 'ACTIVE'), ('65', 'ACTIVE'), ('23', 'CLOSED'), ('91', 'CLOSED'), ('94', 'CLOSED'), ('6S', 'ACTIVE'), ('6S', 'ACTIVE'), ('86', 'ACTIVE'), ('86', 'CLOSED'), ('45', 'ACTIVE'), ('6S', 'CLOSED'), ('4S', 'ACTIVE'), ('05', 'CLOSED'), ('1X', 'CLOSED'), ('66', 'ACTIVE'), ('4A', 'ACTIVE'), ('06', 'CLOSED'), ('45', 'ACTIVE'), ('94', 'CLOSED'), ('35', 'CLOSED'), ('58', 'ACTIVE'), ('05', 'CLOSED'), ('4B', 'ACTIVE'), ('05', 'ACTIVE'), ('4B', 'CLOSED'), ('05', 'ACTIVE'), ('31', 'CLOSED'), ('23', 'ACTIVE'), ('94', 'CLOSED'), ('1X', 'CLOSED'), ('1L', 'CLOSED'), ('31', 'ACTIVE'), ('73', 'ACTIVE'), ('45', 'ACTIVE'), ('66', 'ACTIVE'), ('53', 'CLOSED'), ('14', 'CLOSED'), ('37', 'CLOSED'), ('4S', 'ACTIVE'), ('35', 'CLOSED'), ('71', 'CLOSED'), ('6M', 'CLOSED'), ('83', 'CLOSED'), ('4A', 'ACTIVE'), ('30', 'CLOSED'), ('04', 'CLOSED'), ('91', 'CLOSED'), ('04', 'ACTIVE'), ('85', 'ACTIVE'), ('66', 'CLOSED'), ('86', 'CLOSED'), ('31', 'ACTIVE'), ('31', 'CLOSED'), ('18', 'CLOSED'), ('45', 'ACTIVE'), ('1L', 'ACTIVE'), ('31', 'ACTIVE'), ('30', 'CLOSED'), ('4M', 'CLOSED'), ('1X', 'ACTIVE'), ('45', 'ACTIVE'), ('31', 'ACTIVE'), ('45', 'ACTIVE'), ('6S', 'CLOSED'), ('94', 'CLOSED'), ('4C', 'CLOSED'), ('55', 'CLOSED'), ('4C', 'CLOSED'), ('35', 'CLOSED'), ('2E', 'CLOSED'), ('71', 'CLOSED'), ('6M', 'ACTIVE'), ('6M', 'ACTIVE'), ('45', 'ACTIVE'), ('29', 'CLOSED'), ('23', 'CLOSED'), ('6S', 'CLOSED'), ('85', 'ACTIVE'), ('05', 'CLOSED'), ('73', 'CLOSED'), ('35', 'ACTIVE'), ('35', 'ACTIVE'), ('4M', 'CLOSED'), ('45', 'ACTIVE'), ('91', 'CLOSED'), ('05', 'CLOSED'), ('23', 'ACTIVE'), ('45', 'CLOSED'), ('83', 'ACTIVE'), ('45', 'CLOSED'), ('45', 'CLOSED'), ('6M', 'ACTIVE'), ('45', 'ACTIVE'), ('4S', 'ACTIVE'), ('30', 'CLOSED'), ('09', 'CLOSED'), ('4S', 'ACTIVE'), ('30', 'CLOSED'), ('35', 'CLOSED'), ('05', 'ACTIVE'), ('94', 'CLOSED'), ('05', 'ACTIVE'), ('6M', 'ACTIVE'), ('53', 'CLOSED'), ('4S', 'ACTIVE'), ('73', 'CLOSED'), ('35', 'CLOSED'), ('6S', 'CLOSED'), ('4S', 'ACTIVE'), ('05', 'ACTIVE'), ('45', 'ACTIVE'), ('6S', 'ACTIVE'), ('1X', 'CLOSED'), ('05', 'CLOSED'), ('94', 'CLOSED'), ('1Y', 'ACTIVE'), ('83', 'ACTIVE'), ('4S', 'CLOSED'), ('4A', 'CLOSED'), ('05', 'ACTIVE'), ('5H', 'CLOSED'), ('45', 'CLOSED'), ('45', 'ACTIVE'), ('45', 'ACTIVE'), ('35', 'CLOSED'), ('45', 'CLOSED'), ('45', 'ACTIVE'), ('94', 'CLOSED'), ('58', 'CLOSED'), ('4M', 'CLOSED'), ('35', 'CLOSED'), ('45', 'CLOSED'), ('05', 'CLOSED'), ('1L', 'CLOSED'), ('1X', 'CLOSED'), ('35', 'CLOSED'), ('4F', 'CLOSED'), ('09', 'ACTIVE'), ('31', 'CLOSED'), ('45', 'CLOSED'), ('05', 'CLOSED'), ('91', 'ACTIVE'), ('1X', 'CLOSED'), ('65', 'ACTIVE'), ('45', 'CLOSED'), ('23', 'ACTIVE'), ('45', 'CLOSED'), ('29', 'CLOSED'), ('2G', 'ACTIVE'), ('1Y', 'CLOSED'), ('91', 'CLOSED'), ('6M', 'ACTIVE'), ('35', 'CLOSED'), ('04', 'CLOSED'), ('45', 'ACTIVE'), ('86', 'CLOSED'), ('05', 'ACTIVE'), ('4B', 'ACTIVE'), ('37', 'ACTIVE'), ('1L', 'ACTIVE'), ('1L', 'ACTIVE'), ('1X', 'CLOSED'), ('05', 'CLOSED'), ('4B', 'ACTIVE'), ('45', 'ACTIVE'), ('35', 'ACTIVE'), ('1L', 'ACTIVE'), ('85', 'ACTIVE')]\n"
     ]
    }
   ],
   "source": [
    "#making tuples out of the two feature lists\n",
    "def merge(list1, list2):\n",
    "      \n",
    "    merged_list = [(list1[i], list2[i]) for i in range(0, len(list1))]\n",
    "    return merged_list\n",
    "      \n",
    "# Driver code\n",
    "list1 = complaints[\"Complaint Category\"]\n",
    "list2 = complaints[\"Status\"]\n",
    "new_merged_list = merge(list1,list2)\n",
    "print(new_merged_list)"
   ]
  },
  {
   "cell_type": "code",
   "execution_count": 43,
   "id": "4aa2fe59",
   "metadata": {},
   "outputs": [],
   "source": [
    "#create the two features\n",
    "def create_features(new_merged_list):\n",
    "    return {'first_feature': new_merged_list[0], 'second_feature': new_merged_list[1]}"
   ]
  },
  {
   "cell_type": "code",
   "execution_count": 44,
   "id": "5db1a2f9",
   "metadata": {},
   "outputs": [
    {
     "name": "stdout",
     "output_type": "stream",
     "text": [
      "35\n"
     ]
    }
   ],
   "source": [
    "print(new_merged_list[0][0])"
   ]
  },
  {
   "cell_type": "code",
   "execution_count": 45,
   "id": "927d9fcf",
   "metadata": {},
   "outputs": [],
   "source": [
    "feature_and_lables = zip(new_merged_list, complaints.Unit)"
   ]
  },
  {
   "cell_type": "code",
   "execution_count": 46,
   "id": "dc2ed9d9",
   "metadata": {},
   "outputs": [
    {
     "data": {
      "text/plain": [
       "[({'first_feature': '35', 'second_feature': 'CLOSED'}, 'BKLYN'),\n",
       " ({'first_feature': '4S', 'second_feature': 'CLOSED'}, 'SYE  '),\n",
       " ({'first_feature': '6S', 'second_feature': 'ACTIVE'}, 'ELEVR'),\n",
       " ({'first_feature': '55', 'second_feature': 'ACTIVE'}, 'ERT  '),\n",
       " ({'first_feature': '45', 'second_feature': 'CLOSED'}, 'BKLYN'),\n",
       " ({'first_feature': '59', 'second_feature': 'CLOSED'}, 'ELCTR'),\n",
       " ({'first_feature': '4L', 'second_feature': 'CLOSED'}, 'BEST '),\n",
       " ({'first_feature': '45', 'second_feature': 'ACTIVE'}, 'QNS.'),\n",
       " ({'first_feature': '73', 'second_feature': 'CLOSED'}, 'SPOPS'),\n",
       " ({'first_feature': '4B', 'second_feature': 'CLOSED'}, 'SEP  '),\n",
       " ({'first_feature': '73', 'second_feature': 'CLOSED'}, 'SPOPS'),\n",
       " ({'first_feature': '4A', 'second_feature': 'ACTIVE'}, 'SPOPS'),\n",
       " ({'first_feature': '10', 'second_feature': 'CLOSED'}, 'BRONX'),\n",
       " ({'first_feature': '05', 'second_feature': 'CLOSED'}, 'BKLYN'),\n",
       " ({'first_feature': '83', 'second_feature': 'ACTIVE'}, 'BKLYN'),\n",
       " ({'first_feature': '4A', 'second_feature': 'CLOSED'}, 'SPOPS'),\n",
       " ({'first_feature': '05', 'second_feature': 'CLOSED'}, 'QNS.'),\n",
       " ({'first_feature': '59', 'second_feature': 'CLOSED'}, 'ELCTR'),\n",
       " ({'first_feature': '49', 'second_feature': 'CLOSED'}, 'SPOPS'),\n",
       " ({'first_feature': '6S', 'second_feature': 'CLOSED'}, 'ELEVR'),\n",
       " ({'first_feature': '73', 'second_feature': 'ACTIVE'}, 'BRONX'),\n",
       " ({'first_feature': '1X', 'second_feature': 'ACTIVE'}, 'BKLYN'),\n",
       " ({'first_feature': '45', 'second_feature': 'ACTIVE'}, 'BKLYN'),\n",
       " ({'first_feature': '1L', 'second_feature': 'CLOSED'}, 'PLUMB'),\n",
       " ({'first_feature': '73', 'second_feature': 'CLOSED'}, 'ELCTR'),\n",
       " ({'first_feature': '1L', 'second_feature': 'ACTIVE'}, 'PLUMB'),\n",
       " ({'first_feature': '05', 'second_feature': 'CLOSED'}, 'BKLYN'),\n",
       " ({'first_feature': '35', 'second_feature': 'CLOSED'}, 'BKLYN'),\n",
       " ({'first_feature': '14', 'second_feature': 'ACTIVE'}, 'EXCAV'),\n",
       " ({'first_feature': '05', 'second_feature': 'CLOSED'}, 'BKLYN'),\n",
       " ({'first_feature': '05', 'second_feature': 'CLOSED'}, 'BKLYN'),\n",
       " ({'first_feature': '73', 'second_feature': 'CLOSED'}, 'BEST '),\n",
       " ({'first_feature': '45', 'second_feature': 'ACTIVE'}, 'BKLYN'),\n",
       " ({'first_feature': '6S', 'second_feature': 'ACTIVE'}, 'ELEVR'),\n",
       " ({'first_feature': '35', 'second_feature': 'CLOSED'}, 'BKLYN'),\n",
       " ({'first_feature': '1L', 'second_feature': 'ACTIVE'}, 'PLUMB'),\n",
       " ({'first_feature': '45', 'second_feature': 'ACTIVE'}, 'QNS.'),\n",
       " ({'first_feature': '4M', 'second_feature': 'CLOSED'}, 'BEST '),\n",
       " ({'first_feature': '30', 'second_feature': 'CLOSED'}, 'ERT  '),\n",
       " ({'first_feature': '73', 'second_feature': 'CLOSED'}, 'BEST '),\n",
       " ({'first_feature': '83', 'second_feature': 'CLOSED'}, 'BKLYN'),\n",
       " ({'first_feature': '45', 'second_feature': 'ACTIVE'}, 'QNS.'),\n",
       " ({'first_feature': '73', 'second_feature': 'CLOSED'}, 'BEST '),\n",
       " ({'first_feature': '4M', 'second_feature': 'CLOSED'}, 'BEST '),\n",
       " ({'first_feature': '4M', 'second_feature': 'CLOSED'}, 'BEST '),\n",
       " ({'first_feature': '03', 'second_feature': 'ACTIVE'}, 'ERT  '),\n",
       " ({'first_feature': '35', 'second_feature': 'CLOSED'}, 'QNS.'),\n",
       " ({'first_feature': '6M', 'second_feature': 'CLOSED'}, 'ELEVR'),\n",
       " ({'first_feature': '45', 'second_feature': 'CLOSED'}, 'BKLYN'),\n",
       " ({'first_feature': '05', 'second_feature': 'ACTIVE'}, 'BKLYN'),\n",
       " ({'first_feature': '88', 'second_feature': 'ACTIVE'}, 'BEST '),\n",
       " ({'first_feature': '37', 'second_feature': 'CLOSED'}, 'ERT  '),\n",
       " ({'first_feature': '45', 'second_feature': 'CLOSED'}, 'BKLYN'),\n",
       " ({'first_feature': '45', 'second_feature': 'CLOSED'}, 'BKLYN'),\n",
       " ({'first_feature': '35', 'second_feature': 'CLOSED'}, 'QNS.'),\n",
       " ({'first_feature': '35', 'second_feature': 'CLOSED'}, 'QNS.'),\n",
       " ({'first_feature': '35', 'second_feature': 'ACTIVE'}, 'QNS.'),\n",
       " ({'first_feature': '85', 'second_feature': 'CLOSED'}, 'BRONX'),\n",
       " ({'first_feature': '35', 'second_feature': 'CLOSED'}, 'QNS.'),\n",
       " ({'first_feature': '59', 'second_feature': 'CLOSED'}, 'ELCTR'),\n",
       " ({'first_feature': '6S', 'second_feature': 'CLOSED'}, 'ELEVR'),\n",
       " ({'first_feature': '94', 'second_feature': 'CLOSED'}, 'PLUMB'),\n",
       " ({'first_feature': '23', 'second_feature': 'CLOSED'}, 'SCFLD'),\n",
       " ({'first_feature': '45', 'second_feature': 'ACTIVE'}, 'QNS.'),\n",
       " ({'first_feature': '06', 'second_feature': 'CLOSED'}, 'BKLYN'),\n",
       " ({'first_feature': '45', 'second_feature': 'ACTIVE'}, 'QNS.'),\n",
       " ({'first_feature': '2B', 'second_feature': 'ACTIVE'}, 'QNS.'),\n",
       " ({'first_feature': '73', 'second_feature': 'CLOSED'}, 'BEST '),\n",
       " ({'first_feature': '04', 'second_feature': 'CLOSED'}, 'ERT  '),\n",
       " ({'first_feature': '74', 'second_feature': 'ACTIVE'}, 'BKLYN'),\n",
       " ({'first_feature': '23', 'second_feature': 'ACTIVE'}, 'SCFLD'),\n",
       " ({'first_feature': '1A', 'second_feature': 'CLOSED'}, 'BKLYN'),\n",
       " ({'first_feature': '45', 'second_feature': 'CLOSED'}, 'QNS.'),\n",
       " ({'first_feature': '4A', 'second_feature': 'ACTIVE'}, 'SPOPS'),\n",
       " ({'first_feature': '45', 'second_feature': 'ACTIVE'}, 'QNS.'),\n",
       " ({'first_feature': '35', 'second_feature': 'CLOSED'}, 'BKLYN'),\n",
       " ({'first_feature': '4M', 'second_feature': 'CLOSED'}, 'BEST '),\n",
       " ({'first_feature': '86', 'second_feature': 'CLOSED'}, 'BEST '),\n",
       " ({'first_feature': '71', 'second_feature': 'ACTIVE'}, 'BRONX'),\n",
       " ({'first_feature': '45', 'second_feature': 'ACTIVE'}, 'QNS.'),\n",
       " ({'first_feature': '4A', 'second_feature': 'ACTIVE'}, 'SPOPS'),\n",
       " ({'first_feature': '09', 'second_feature': 'CLOSED'}, 'BRONX'),\n",
       " ({'first_feature': '23', 'second_feature': 'ACTIVE'}, 'SCFLD'),\n",
       " ({'first_feature': '30', 'second_feature': 'ACTIVE'}, 'ERT  '),\n",
       " ({'first_feature': '85', 'second_feature': 'CLOSED'}, 'QNS.'),\n",
       " ({'first_feature': '45', 'second_feature': 'CLOSED'}, 'MAN.'),\n",
       " ({'first_feature': '45', 'second_feature': 'ACTIVE'}, 'QNS.'),\n",
       " ({'first_feature': '45', 'second_feature': 'ACTIVE'}, 'BRONX'),\n",
       " ({'first_feature': '4A', 'second_feature': 'ACTIVE'}, 'SPOPS'),\n",
       " ({'first_feature': '09', 'second_feature': 'ACTIVE'}, 'BRONX'),\n",
       " ({'first_feature': '94', 'second_feature': 'CLOSED'}, 'PLUMB'),\n",
       " ({'first_feature': '16', 'second_feature': 'CLOSED'}, 'BEST '),\n",
       " ({'first_feature': '30', 'second_feature': 'ACTIVE'}, 'ERT  '),\n",
       " ({'first_feature': '05', 'second_feature': 'CLOSED'}, 'QNS.'),\n",
       " ({'first_feature': '06', 'second_feature': 'ACTIVE'}, 'ST.IS'),\n",
       " ({'first_feature': '05', 'second_feature': 'ACTIVE'}, 'QNS.'),\n",
       " ({'first_feature': '09', 'second_feature': 'ACTIVE'}, 'BKLYN'),\n",
       " ({'first_feature': '05', 'second_feature': 'CLOSED'}, 'BKLYN'),\n",
       " ({'first_feature': '15', 'second_feature': 'CLOSED'}, 'QNS.'),\n",
       " ({'first_feature': '05', 'second_feature': 'CLOSED'}, 'MAN.'),\n",
       " ({'first_feature': '30', 'second_feature': 'CLOSED'}, 'ERT  '),\n",
       " ({'first_feature': '66', 'second_feature': 'ACTIVE'}, 'PLUMB'),\n",
       " ({'first_feature': '45', 'second_feature': 'CLOSED'}, 'BKLYN'),\n",
       " ({'first_feature': '03', 'second_feature': 'CLOSED'}, 'BEST '),\n",
       " ({'first_feature': '10', 'second_feature': 'CLOSED'}, 'INTDM'),\n",
       " ({'first_feature': '05', 'second_feature': 'CLOSED'}, 'BRONX'),\n",
       " ({'first_feature': '06', 'second_feature': 'ACTIVE'}, 'BRONX'),\n",
       " ({'first_feature': '45', 'second_feature': 'CLOSED'}, 'QNS.'),\n",
       " ({'first_feature': '05', 'second_feature': 'ACTIVE'}, 'BRONX'),\n",
       " ({'first_feature': '59', 'second_feature': 'CLOSED'}, 'ELCTR'),\n",
       " ({'first_feature': '1L', 'second_feature': 'ACTIVE'}, 'PLUMB'),\n",
       " ({'first_feature': '05', 'second_feature': 'ACTIVE'}, 'MAN.'),\n",
       " ({'first_feature': '35', 'second_feature': 'CLOSED'}, 'QNS.'),\n",
       " ({'first_feature': '05', 'second_feature': 'ACTIVE'}, 'QNS.'),\n",
       " ({'first_feature': '45', 'second_feature': 'ACTIVE'}, 'QNS.'),\n",
       " ({'first_feature': '30', 'second_feature': 'CLOSED'}, 'BEST '),\n",
       " ({'first_feature': '05', 'second_feature': 'CLOSED'}, 'QNS.'),\n",
       " ({'first_feature': '31', 'second_feature': 'ACTIVE'}, 'BKLYN'),\n",
       " ({'first_feature': '1X', 'second_feature': 'ACTIVE'}, 'BKLYN'),\n",
       " ({'first_feature': '83', 'second_feature': 'CLOSED'}, 'MAN.'),\n",
       " ({'first_feature': '59', 'second_feature': 'ACTIVE'}, 'ELCTR'),\n",
       " ({'first_feature': '55', 'second_feature': 'CLOSED'}, 'QNS.'),\n",
       " ({'first_feature': '45', 'second_feature': 'ACTIVE'}, 'BKLYN'),\n",
       " ({'first_feature': '45', 'second_feature': 'ACTIVE'}, 'QNS.'),\n",
       " ({'first_feature': '1Y', 'second_feature': 'CLOSED'}, 'EXEC '),\n",
       " ({'first_feature': '86', 'second_feature': 'ACTIVE'}, 'BKLYN'),\n",
       " ({'first_feature': '05', 'second_feature': 'CLOSED'}, 'QNS.'),\n",
       " ({'first_feature': '4A', 'second_feature': 'ACTIVE'}, 'SPOPS'),\n",
       " ({'first_feature': '45', 'second_feature': 'ACTIVE'}, 'BKLYN'),\n",
       " ({'first_feature': '4L', 'second_feature': 'CLOSED'}, 'BEST '),\n",
       " ({'first_feature': '4B', 'second_feature': 'CLOSED'}, 'SEP  '),\n",
       " ({'first_feature': '29', 'second_feature': 'ACTIVE'}, 'BRONX'),\n",
       " ({'first_feature': '45', 'second_feature': 'ACTIVE'}, 'QNS.'),\n",
       " ({'first_feature': '65', 'second_feature': 'ACTIVE'}, 'PLUMB'),\n",
       " ({'first_feature': '23', 'second_feature': 'CLOSED'}, 'SCFLD'),\n",
       " ({'first_feature': '91', 'second_feature': 'CLOSED'}, 'EXCAV'),\n",
       " ({'first_feature': '94', 'second_feature': 'CLOSED'}, 'PLUMB'),\n",
       " ({'first_feature': '6S', 'second_feature': 'ACTIVE'}, 'ELEVR'),\n",
       " ({'first_feature': '6S', 'second_feature': 'ACTIVE'}, 'ELEVR'),\n",
       " ({'first_feature': '86', 'second_feature': 'ACTIVE'}, 'QNS.'),\n",
       " ({'first_feature': '86', 'second_feature': 'CLOSED'}, 'MAN.'),\n",
       " ({'first_feature': '45', 'second_feature': 'ACTIVE'}, 'BKLYN'),\n",
       " ({'first_feature': '6S', 'second_feature': 'CLOSED'}, 'ELEVR'),\n",
       " ({'first_feature': '4S', 'second_feature': 'ACTIVE'}, 'SYE  '),\n",
       " ({'first_feature': '05', 'second_feature': 'CLOSED'}, 'QNS.'),\n",
       " ({'first_feature': '1X', 'second_feature': 'CLOSED'}, 'BKLYN'),\n",
       " ({'first_feature': '66', 'second_feature': 'ACTIVE'}, 'PLUMB'),\n",
       " ({'first_feature': '4A', 'second_feature': 'ACTIVE'}, 'SPOPS'),\n",
       " ({'first_feature': '06', 'second_feature': 'CLOSED'}, 'QNS.'),\n",
       " ({'first_feature': '45', 'second_feature': 'ACTIVE'}, 'QNS.'),\n",
       " ({'first_feature': '94', 'second_feature': 'CLOSED'}, 'PLUMB'),\n",
       " ({'first_feature': '35', 'second_feature': 'CLOSED'}, 'QNS.'),\n",
       " ({'first_feature': '58', 'second_feature': 'ACTIVE'}, 'BOILR'),\n",
       " ({'first_feature': '05', 'second_feature': 'CLOSED'}, 'QNS.'),\n",
       " ({'first_feature': '4B', 'second_feature': 'ACTIVE'}, 'SEP  '),\n",
       " ({'first_feature': '05', 'second_feature': 'ACTIVE'}, 'BKLYN'),\n",
       " ({'first_feature': '4B', 'second_feature': 'CLOSED'}, 'SEP  '),\n",
       " ({'first_feature': '05', 'second_feature': 'ACTIVE'}, 'MAN.'),\n",
       " ({'first_feature': '31', 'second_feature': 'CLOSED'}, 'BKLYN'),\n",
       " ({'first_feature': '23', 'second_feature': 'ACTIVE'}, 'SCFLD'),\n",
       " ({'first_feature': '94', 'second_feature': 'CLOSED'}, 'SPOPS'),\n",
       " ({'first_feature': '1X', 'second_feature': 'CLOSED'}, 'BKLYN'),\n",
       " ({'first_feature': '1L', 'second_feature': 'CLOSED'}, 'PLUMB'),\n",
       " ({'first_feature': '31', 'second_feature': 'ACTIVE'}, 'ST.IS'),\n",
       " ({'first_feature': '73', 'second_feature': 'ACTIVE'}, 'BRONX'),\n",
       " ({'first_feature': '45', 'second_feature': 'ACTIVE'}, 'BKLYN'),\n",
       " ({'first_feature': '66', 'second_feature': 'ACTIVE'}, 'PLUMB'),\n",
       " ({'first_feature': '53', 'second_feature': 'CLOSED'}, 'BRONX'),\n",
       " ({'first_feature': '14', 'second_feature': 'CLOSED'}, 'EXCAV'),\n",
       " ({'first_feature': '37', 'second_feature': 'CLOSED'}, 'ERT  '),\n",
       " ({'first_feature': '4S', 'second_feature': 'ACTIVE'}, 'SYE  '),\n",
       " ({'first_feature': '35', 'second_feature': 'CLOSED'}, 'ST.IS'),\n",
       " ({'first_feature': '71', 'second_feature': 'CLOSED'}, 'QNS.'),\n",
       " ({'first_feature': '6M', 'second_feature': 'CLOSED'}, 'ELEVR'),\n",
       " ({'first_feature': '83', 'second_feature': 'CLOSED'}, 'BEST '),\n",
       " ({'first_feature': '4A', 'second_feature': 'ACTIVE'}, 'SPOPS'),\n",
       " ({'first_feature': '30', 'second_feature': 'CLOSED'}, 'ERT  '),\n",
       " ({'first_feature': '04', 'second_feature': 'CLOSED'}, 'ERT  '),\n",
       " ({'first_feature': '91', 'second_feature': 'CLOSED'}, 'BEST '),\n",
       " ({'first_feature': '04', 'second_feature': 'ACTIVE'}, 'ERT  '),\n",
       " ({'first_feature': '85', 'second_feature': 'ACTIVE'}, 'ERT  '),\n",
       " ({'first_feature': '66', 'second_feature': 'CLOSED'}, 'PLUMB'),\n",
       " ({'first_feature': '86', 'second_feature': 'CLOSED'}, 'BEST '),\n",
       " ({'first_feature': '31', 'second_feature': 'ACTIVE'}, 'QNS.'),\n",
       " ({'first_feature': '31', 'second_feature': 'CLOSED'}, 'BKLYN'),\n",
       " ({'first_feature': '18', 'second_feature': 'CLOSED'}, 'ERT  '),\n",
       " ({'first_feature': '45', 'second_feature': 'ACTIVE'}, 'BRONX'),\n",
       " ({'first_feature': '1L', 'second_feature': 'ACTIVE'}, 'PLUMB'),\n",
       " ({'first_feature': '31', 'second_feature': 'ACTIVE'}, 'ST.IS'),\n",
       " ({'first_feature': '30', 'second_feature': 'CLOSED'}, 'ERT  '),\n",
       " ({'first_feature': '4M', 'second_feature': 'CLOSED'}, 'BEST '),\n",
       " ({'first_feature': '1X', 'second_feature': 'ACTIVE'}, 'QNS.'),\n",
       " ({'first_feature': '45', 'second_feature': 'ACTIVE'}, 'QNS.'),\n",
       " ({'first_feature': '31', 'second_feature': 'ACTIVE'}, 'BKLYN'),\n",
       " ({'first_feature': '45', 'second_feature': 'ACTIVE'}, 'QNS.'),\n",
       " ({'first_feature': '6S', 'second_feature': 'CLOSED'}, 'ELEVR'),\n",
       " ({'first_feature': '94', 'second_feature': 'CLOSED'}, 'PLUMB'),\n",
       " ({'first_feature': '4C', 'second_feature': 'CLOSED'}, 'EXCAV'),\n",
       " ({'first_feature': '55', 'second_feature': 'CLOSED'}, 'ERT  '),\n",
       " ({'first_feature': '4C', 'second_feature': 'CLOSED'}, 'EXCAV'),\n",
       " ({'first_feature': '35', 'second_feature': 'CLOSED'}, 'BKLYN'),\n",
       " ({'first_feature': '2E', 'second_feature': 'CLOSED'}, 'BEST '),\n",
       " ({'first_feature': '71', 'second_feature': 'CLOSED'}, 'BKLYN'),\n",
       " ({'first_feature': '6M', 'second_feature': 'ACTIVE'}, 'ELEVR'),\n",
       " ({'first_feature': '6M', 'second_feature': 'ACTIVE'}, 'ELEVR'),\n",
       " ({'first_feature': '45', 'second_feature': 'ACTIVE'}, 'QNS.'),\n",
       " ({'first_feature': '29', 'second_feature': 'CLOSED'}, 'ST.IS'),\n",
       " ({'first_feature': '23', 'second_feature': 'CLOSED'}, 'SCFLD'),\n",
       " ({'first_feature': '6S', 'second_feature': 'CLOSED'}, 'ELEVR'),\n",
       " ({'first_feature': '85', 'second_feature': 'ACTIVE'}, 'ERT  '),\n",
       " ({'first_feature': '05', 'second_feature': 'CLOSED'}, 'QNS.'),\n",
       " ({'first_feature': '73', 'second_feature': 'CLOSED'}, 'QNS.'),\n",
       " ({'first_feature': '35', 'second_feature': 'ACTIVE'}, 'QNS.'),\n",
       " ({'first_feature': '35', 'second_feature': 'ACTIVE'}, 'QNS.'),\n",
       " ({'first_feature': '4M', 'second_feature': 'CLOSED'}, 'BEST '),\n",
       " ({'first_feature': '45', 'second_feature': 'ACTIVE'}, 'QNS.'),\n",
       " ({'first_feature': '91', 'second_feature': 'CLOSED'}, 'BEST '),\n",
       " ({'first_feature': '05', 'second_feature': 'CLOSED'}, 'BKLYN'),\n",
       " ({'first_feature': '23', 'second_feature': 'ACTIVE'}, 'SCFLD'),\n",
       " ({'first_feature': '45', 'second_feature': 'CLOSED'}, 'BKLYN'),\n",
       " ({'first_feature': '83', 'second_feature': 'ACTIVE'}, 'MAN.'),\n",
       " ({'first_feature': '45', 'second_feature': 'CLOSED'}, 'SPOPS'),\n",
       " ({'first_feature': '45', 'second_feature': 'CLOSED'}, 'BRONX'),\n",
       " ({'first_feature': '6M', 'second_feature': 'ACTIVE'}, 'ELEVR'),\n",
       " ({'first_feature': '45', 'second_feature': 'ACTIVE'}, 'BKLYN'),\n",
       " ({'first_feature': '4S', 'second_feature': 'ACTIVE'}, 'SYE  '),\n",
       " ({'first_feature': '30', 'second_feature': 'CLOSED'}, 'QNS.'),\n",
       " ({'first_feature': '09', 'second_feature': 'CLOSED'}, 'BRONX'),\n",
       " ({'first_feature': '4S', 'second_feature': 'ACTIVE'}, 'SYE  '),\n",
       " ({'first_feature': '30', 'second_feature': 'CLOSED'}, 'ERT  '),\n",
       " ({'first_feature': '35', 'second_feature': 'CLOSED'}, 'BKLYN'),\n",
       " ({'first_feature': '05', 'second_feature': 'ACTIVE'}, 'MAN.'),\n",
       " ({'first_feature': '94', 'second_feature': 'CLOSED'}, 'PLUMB'),\n",
       " ({'first_feature': '05', 'second_feature': 'ACTIVE'}, 'BKLYN'),\n",
       " ({'first_feature': '6M', 'second_feature': 'ACTIVE'}, 'ELEVR'),\n",
       " ({'first_feature': '53', 'second_feature': 'CLOSED'}, 'MAN.'),\n",
       " ({'first_feature': '4S', 'second_feature': 'ACTIVE'}, 'SYE  '),\n",
       " ({'first_feature': '73', 'second_feature': 'CLOSED'}, 'BEST '),\n",
       " ({'first_feature': '35', 'second_feature': 'CLOSED'}, 'QNS.'),\n",
       " ({'first_feature': '6S', 'second_feature': 'CLOSED'}, 'ELEVR'),\n",
       " ({'first_feature': '4S', 'second_feature': 'ACTIVE'}, 'SYE  '),\n",
       " ({'first_feature': '05', 'second_feature': 'ACTIVE'}, 'BRONX'),\n",
       " ({'first_feature': '45', 'second_feature': 'ACTIVE'}, 'QNS.'),\n",
       " ({'first_feature': '6S', 'second_feature': 'ACTIVE'}, 'ELEVR'),\n",
       " ({'first_feature': '1X', 'second_feature': 'CLOSED'}, 'BKLYN'),\n",
       " ({'first_feature': '05', 'second_feature': 'CLOSED'}, 'QNS.'),\n",
       " ({'first_feature': '94', 'second_feature': 'CLOSED'}, 'PLUMB'),\n",
       " ({'first_feature': '1Y', 'second_feature': 'ACTIVE'}, 'EXEC '),\n",
       " ({'first_feature': '83', 'second_feature': 'ACTIVE'}, 'QNS.'),\n",
       " ({'first_feature': '4S', 'second_feature': 'CLOSED'}, 'SYE  '),\n",
       " ({'first_feature': '4A', 'second_feature': 'CLOSED'}, 'SPOPS'),\n",
       " ({'first_feature': '05', 'second_feature': 'ACTIVE'}, 'BKLYN'),\n",
       " ({'first_feature': '5H', 'second_feature': 'CLOSED'}, 'OBM  '),\n",
       " ({'first_feature': '45', 'second_feature': 'CLOSED'}, 'QNS.'),\n",
       " ({'first_feature': '45', 'second_feature': 'ACTIVE'}, 'QNS.'),\n",
       " ({'first_feature': '45', 'second_feature': 'ACTIVE'}, 'QNS.'),\n",
       " ({'first_feature': '35', 'second_feature': 'CLOSED'}, 'QNS.'),\n",
       " ({'first_feature': '45', 'second_feature': 'CLOSED'}, 'QNS.'),\n",
       " ({'first_feature': '45', 'second_feature': 'ACTIVE'}, 'ST.IS'),\n",
       " ({'first_feature': '94', 'second_feature': 'CLOSED'}, 'PLUMB'),\n",
       " ({'first_feature': '58', 'second_feature': 'CLOSED'}, 'BOILR'),\n",
       " ({'first_feature': '4M', 'second_feature': 'CLOSED'}, 'BEST '),\n",
       " ({'first_feature': '35', 'second_feature': 'CLOSED'}, 'QNS.'),\n",
       " ({'first_feature': '45', 'second_feature': 'CLOSED'}, 'QNS.'),\n",
       " ({'first_feature': '05', 'second_feature': 'CLOSED'}, 'QNS.'),\n",
       " ({'first_feature': '1L', 'second_feature': 'CLOSED'}, 'PLUMB'),\n",
       " ({'first_feature': '1X', 'second_feature': 'CLOSED'}, 'BKLYN'),\n",
       " ({'first_feature': '35', 'second_feature': 'CLOSED'}, 'QNS.'),\n",
       " ({'first_feature': '4F', 'second_feature': 'CLOSED'}, 'SCFLD'),\n",
       " ({'first_feature': '09', 'second_feature': 'ACTIVE'}, 'MAN.'),\n",
       " ({'first_feature': '31', 'second_feature': 'CLOSED'}, 'BRONX'),\n",
       " ({'first_feature': '45', 'second_feature': 'CLOSED'}, 'QNS.'),\n",
       " ({'first_feature': '05', 'second_feature': 'CLOSED'}, 'QNS.'),\n",
       " ({'first_feature': '91', 'second_feature': 'ACTIVE'}, 'ERT  '),\n",
       " ({'first_feature': '1X', 'second_feature': 'CLOSED'}, 'QNS.'),\n",
       " ({'first_feature': '65', 'second_feature': 'ACTIVE'}, 'PLUMB'),\n",
       " ({'first_feature': '45', 'second_feature': 'CLOSED'}, 'SPOPS'),\n",
       " ({'first_feature': '23', 'second_feature': 'ACTIVE'}, 'SCFLD'),\n",
       " ({'first_feature': '45', 'second_feature': 'CLOSED'}, 'BKLYN'),\n",
       " ({'first_feature': '29', 'second_feature': 'CLOSED'}, 'QNS.'),\n",
       " ({'first_feature': '2G', 'second_feature': 'ACTIVE'}, 'SPOPS'),\n",
       " ({'first_feature': '1Y', 'second_feature': 'CLOSED'}, 'EXEC '),\n",
       " ({'first_feature': '91', 'second_feature': 'CLOSED'}, 'BEST '),\n",
       " ({'first_feature': '6M', 'second_feature': 'ACTIVE'}, 'ELEVR'),\n",
       " ({'first_feature': '35', 'second_feature': 'CLOSED'}, 'BKLYN'),\n",
       " ({'first_feature': '04', 'second_feature': 'CLOSED'}, 'ERT  '),\n",
       " ({'first_feature': '45', 'second_feature': 'ACTIVE'}, 'BKLYN'),\n",
       " ({'first_feature': '86', 'second_feature': 'CLOSED'}, 'MAN.'),\n",
       " ({'first_feature': '05', 'second_feature': 'ACTIVE'}, 'QNS.'),\n",
       " ({'first_feature': '4B', 'second_feature': 'ACTIVE'}, 'SEP  '),\n",
       " ({'first_feature': '37', 'second_feature': 'ACTIVE'}, 'QNS.'),\n",
       " ({'first_feature': '1L', 'second_feature': 'ACTIVE'}, 'PLUMB'),\n",
       " ({'first_feature': '1L', 'second_feature': 'ACTIVE'}, 'PLUMB'),\n",
       " ({'first_feature': '1X', 'second_feature': 'CLOSED'}, 'BKLYN'),\n",
       " ({'first_feature': '05', 'second_feature': 'CLOSED'}, 'BKLYN'),\n",
       " ({'first_feature': '4B', 'second_feature': 'ACTIVE'}, 'SEP  '),\n",
       " ({'first_feature': '45', 'second_feature': 'ACTIVE'}, 'ST.IS'),\n",
       " ({'first_feature': '35', 'second_feature': 'ACTIVE'}, 'BKLYN'),\n",
       " ({'first_feature': '1L', 'second_feature': 'ACTIVE'}, 'PLUMB'),\n",
       " ({'first_feature': '85', 'second_feature': 'ACTIVE'}, 'QNS.')]"
      ]
     },
     "execution_count": 46,
     "metadata": {},
     "output_type": "execute_result"
    }
   ],
   "source": [
    "feature_sets = [ (create_features(x),y) for x,y in feature_and_lables ]\n",
    "feature_sets"
   ]
  },
  {
   "cell_type": "code",
   "execution_count": 47,
   "id": "c3a45705",
   "metadata": {},
   "outputs": [],
   "source": [
    "import random\n",
    "random.shuffle(feature_sets)"
   ]
  },
  {
   "cell_type": "code",
   "execution_count": 48,
   "id": "63832f6f",
   "metadata": {},
   "outputs": [
    {
     "data": {
      "text/plain": [
       "300"
      ]
     },
     "execution_count": 48,
     "metadata": {},
     "output_type": "execute_result"
    }
   ],
   "source": [
    "len(feature_sets)"
   ]
  },
  {
   "cell_type": "code",
   "execution_count": 49,
   "id": "08900e69",
   "metadata": {},
   "outputs": [
    {
     "data": {
      "text/plain": [
       "240.0"
      ]
     },
     "execution_count": 49,
     "metadata": {},
     "output_type": "execute_result"
    }
   ],
   "source": [
    "300*.8"
   ]
  },
  {
   "cell_type": "code",
   "execution_count": 50,
   "id": "68d38ded",
   "metadata": {},
   "outputs": [],
   "source": [
    "training_set = feature_sets[:240]\n",
    "testing_set = feature_sets[240:]"
   ]
  },
  {
   "cell_type": "code",
   "execution_count": 51,
   "id": "4db2dacd",
   "metadata": {},
   "outputs": [],
   "source": [
    "import nltk\n",
    "\n",
    "# build our first classifier!\n",
    "classifier = nltk.NaiveBayesClassifier.train(training_set)"
   ]
  },
  {
   "cell_type": "code",
   "execution_count": 54,
   "id": "cfe11cf8",
   "metadata": {},
   "outputs": [
    {
     "data": {
      "text/plain": [
       "'QNS.'"
      ]
     },
     "execution_count": 54,
     "metadata": {},
     "output_type": "execute_result"
    }
   ],
   "source": [
    "# test out our classifier\n",
    "classifier.classify(create_features(['35','ACTIVE']))"
   ]
  },
  {
   "cell_type": "code",
   "execution_count": 55,
   "id": "1db1b58f",
   "metadata": {},
   "outputs": [
    {
     "name": "stdout",
     "output_type": "stream",
     "text": [
      "0.55\n"
     ]
    }
   ],
   "source": [
    "# how accurate is our classifier?\n",
    "print(nltk.classify.accuracy(classifier, testing_set))"
   ]
  },
  {
   "cell_type": "code",
   "execution_count": 57,
   "id": "26ee28f6",
   "metadata": {},
   "outputs": [
    {
     "name": "stdout",
     "output_type": "stream",
     "text": [
      "Most Informative Features\n",
      "          second_feature = 'ACTIVE'        SYE   : BEST   =      9.4 : 1.0\n",
      "           first_feature = '30'            ERT   : QNS.   =      9.4 : 1.0\n"
     ]
    }
   ],
   "source": [
    "# show which features were most important for the algorithm\n",
    "classifier.show_most_informative_features(2)"
   ]
  },
  {
   "cell_type": "code",
   "execution_count": null,
   "id": "98edceb1",
   "metadata": {},
   "outputs": [],
   "source": []
  }
 ],
 "metadata": {
  "kernelspec": {
   "display_name": "Python 3 (ipykernel)",
   "language": "python",
   "name": "python3"
  },
  "language_info": {
   "codemirror_mode": {
    "name": "ipython",
    "version": 3
   },
   "file_extension": ".py",
   "mimetype": "text/x-python",
   "name": "python",
   "nbconvert_exporter": "python",
   "pygments_lexer": "ipython3",
   "version": "3.11.0"
  }
 },
 "nbformat": 4,
 "nbformat_minor": 5
}
